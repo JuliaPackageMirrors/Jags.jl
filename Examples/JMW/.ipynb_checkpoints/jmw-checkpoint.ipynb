{
 "metadata": {
  "language": "Julia",
  "name": "",
  "signature": "sha256:511886b76516c753531d77c8f01e459dd95b3cb7298673af4dfb0ed7f304bd70"
 },
 "nbformat": 3,
 "nbformat_minor": 0,
 "worksheets": [
  {
   "cells": [
    {
     "cell_type": "code",
     "collapsed": false,
     "input": [
      "using Distributions, Jags, Gadfly\n",
      "\n",
      "old = pwd()\n",
      "path = @windows ? \"\\\\Examples\\\\JMW\" : \"/Examples/JMW\"\n",
      "ProjDir = Pkg.dir(\"Jags\")*path\n",
      "cd(ProjDir)\n"
     ],
     "language": "python",
     "metadata": {},
     "outputs": [
      {
       "output_type": "stream",
       "stream": "stderr",
       "text": [
        "Warning: imported binding for Date overwritten in module Datetime\n",
        "Warning: imported binding for DateTime overwritten in module Datetime\n",
        "Warning: Method definition now()"
       ]
      },
      {
       "ename": "LoadError",
       "evalue": "@grisu_ccall not defined\nwhile loading /Users/rob/.julia/v0.4/Gadfly/src/format.jl, in expression starting on line 56\nwhile loading /Users/rob/.julia/v0.4/Gadfly/src/Gadfly.jl, in expression starting on line 50\nwhile loading In[1], in expression starting on line 1",
       "output_type": "pyerr",
       "traceback": [
        "@grisu_ccall not defined\nwhile loading /Users/rob/.julia/v0.4/Gadfly/src/format.jl, in expression starting on line 56\nwhile loading /Users/rob/.julia/v0.4/Gadfly/src/Gadfly.jl, in expression starting on line 50\nwhile loading In[1], in expression starting on line 1",
        "",
        " in cconvert at ./base.jl:33",
        " in include_from_node1 at ./loading.jl:120",
        " in cconvert at ./base.jl:33",
        " in include_from_node1 at ./loading.jl:120",
        " in reload_path at loading.jl:152",
        " in _require at loading.jl:67",
        " in require at loading.jl:51"
       ]
      },
      {
       "output_type": "stream",
       "stream": "stderr",
       "text": [
        " in module Dates at dates/conversions.jl:21 overwritten in module Datetime at /Users/rob/.julia/v0.4/Datetime/src/Datetime.jl:294.\n"
       ]
      }
     ],
     "prompt_number": 1
    }
   ],
   "metadata": {}
  }
 ]
}